{
 "cells": [
  {
   "cell_type": "code",
   "execution_count": 1,
   "metadata": {
    "collapsed": true,
    "pycharm": {
     "name": "#%%\n"
    }
   },
   "outputs": [],
   "source": [
    "import torch\n",
    "import torch.nn as nn\n",
    "import torch.nn.functional as F\n",
    "import torch.optim as optim\n",
    "from torch.utils.data import DataLoader\n",
    "from torchvision import datasets, transforms\n",
    "from sklearn.feature_extraction.text import TfidfVectorizer\n",
    "from transformers import BertTokenizer\n",
    "import numpy as np\n",
    "import pandas as pd"
   ]
  },
  {
   "cell_type": "code",
   "execution_count": 2,
   "outputs": [],
   "source": [
    "# Read news data from 'data.csv' file\n",
    "data = pd.read_csv('data.csv')"
   ],
   "metadata": {
    "collapsed": false,
    "pycharm": {
     "name": "#%%\n"
    }
   }
  },
  {
   "cell_type": "code",
   "execution_count": 4,
   "outputs": [],
   "source": [
    "# Create fake/real news classifier using PyTorch\n",
    "class ANN(nn.Module):\n",
    "    def __init__(self):\n",
    "        super(ANN,self).__init__()\n",
    "\n",
    "        self.linear1 = nn.Linear(512,2000)\n",
    "        self.relu1 = nn.ReLU()\n",
    "\n",
    "        self.linear2 = nn.Linear(2000,500)\n",
    "        self.relu2 = nn.ReLU()\n",
    "\n",
    "        self.linear3 = nn.Linear(500,100)\n",
    "        self.relu3 = nn.ReLU()\n",
    "\n",
    "        self.linear4 = nn.Linear(100,20)\n",
    "        self.relu4 = nn.ReLU()\n",
    "\n",
    "        self.linear5 = nn.Linear(20,2)\n",
    "\n",
    "\n",
    "    def forward(self,x):\n",
    "        out = self.linear1(x)\n",
    "        out = self.relu1(out)\n",
    "\n",
    "        out = self.linear2(out)\n",
    "        out = self.relu2(out)\n",
    "\n",
    "        out = self.linear3(out)\n",
    "        out = self.relu3(out)\n",
    "\n",
    "        out = self.linear4(out)\n",
    "        out = self.relu4(out)\n",
    "\n",
    "        out = self.linear5(out)\n",
    "\n",
    "        return out"
   ],
   "metadata": {
    "collapsed": false,
    "pycharm": {
     "name": "#%%\n"
    }
   }
  },
  {
   "cell_type": "code",
   "execution_count": 3,
   "outputs": [],
   "source": [
    "data.dropna(inplace=True)"
   ],
   "metadata": {
    "collapsed": false,
    "pycharm": {
     "name": "#%%\n"
    }
   }
  },
  {
   "cell_type": "code",
   "execution_count": 7,
   "outputs": [],
   "source": [
    "# Vectorize the data\n",
    "# vectorizer_headline = TfidfVectorizer(max_features=100, stop_words='english')\n",
    "# vectorizer_headline.fit(data.Headline)\n",
    "#\n",
    "# vectorizer_body = TfidfVectorizer(max_features=1000, stop_words='english')\n",
    "# vectorizer_body.fit(data.Body)"
   ],
   "metadata": {
    "collapsed": false,
    "pycharm": {
     "name": "#%%\n"
    }
   }
  },
  {
   "cell_type": "code",
   "execution_count": 4,
   "outputs": [],
   "source": [
    "data_hdl_bd, y_train = data[['Headline', 'Body']].apply(lambda x: x[0] + '\\n\\n' + x[1], axis=1).values,\\\n",
    "                       data.Label.values\n"
   ],
   "metadata": {
    "collapsed": false,
    "pycharm": {
     "name": "#%%\n"
    }
   }
  },
  {
   "cell_type": "code",
   "execution_count": 5,
   "outputs": [],
   "source": [
    "tokenizer = BertTokenizer.from_pretrained(\"bert-base-uncased\")\n",
    "\n",
    "inputs = tokenizer(list(data_hdl_bd), return_tensors=\"pt\", truncation=True, padding=True)"
   ],
   "metadata": {
    "collapsed": false,
    "pycharm": {
     "name": "#%%\n"
    }
   }
  },
  {
   "cell_type": "code",
   "execution_count": 10,
   "outputs": [],
   "source": [
    "# old try with vectorizer\n",
    "# data_cp = data.copy()\n",
    "#\n",
    "# data_cp['vector_Headline'] = vectorizer_headline.transform(data_cp.Headline).data\n",
    "# data_cp['vector_Body'] = vectorizer_body.transform(data_cp.Body).data\n"
   ],
   "metadata": {
    "collapsed": false,
    "pycharm": {
     "name": "#%%\n"
    }
   }
  },
  {
   "cell_type": "code",
   "execution_count": 11,
   "outputs": [
    {
     "data": {
      "text/plain": "Index(['URLs', 'Headline', 'Body', 'Label'], dtype='object')"
     },
     "execution_count": 11,
     "metadata": {},
     "output_type": "execute_result"
    }
   ],
   "source": [
    "data.columns"
   ],
   "metadata": {
    "collapsed": false,
    "pycharm": {
     "name": "#%%\n"
    }
   }
  },
  {
   "cell_type": "code",
   "execution_count": 6,
   "outputs": [],
   "source": [
    "data['tokens'] = [torch.from_numpy(x) for x in inputs['input_ids'].numpy().astype(np.float32)]\n",
    "training_data = data[['tokens', 'Label']]"
   ],
   "metadata": {
    "collapsed": false,
    "pycharm": {
     "name": "#%%\n"
    }
   }
  },
  {
   "cell_type": "code",
   "execution_count": 7,
   "outputs": [],
   "source": [
    "# Split the data into training and test sets\n",
    "train_data, test_data = training_data.iloc[:int(len(training_data) * 0.8)],\\\n",
    "                        training_data.iloc[int(len(training_data) * 0.8):]\n",
    "\n",
    "# Create PyTorch datasets\n",
    "train_dataset = torch.utils.data.TensorDataset(torch.stack(tuple(train_data.tokens.values)),\n",
    "                                               torch.tensor(train_data.Label.values))\n",
    "test_dataset = torch.utils.data.TensorDataset(torch.stack(tuple(test_data.tokens.values)),\n",
    "                                              torch.tensor(test_data.Label.values))"
   ],
   "metadata": {
    "collapsed": false,
    "pycharm": {
     "name": "#%%\n"
    }
   }
  },
  {
   "cell_type": "code",
   "execution_count": 15,
   "outputs": [],
   "source": [
    "# Create PyTorch data loaders\n",
    "train_loader = torch.utils.data.DataLoader(train_dataset, batch_size=32, shuffle=True)\n",
    "test_loader = torch.utils.data.DataLoader(test_dataset, batch_size=32, shuffle=True)\n"
   ],
   "metadata": {
    "collapsed": false,
    "pycharm": {
     "name": "#%%\n"
    }
   }
  },
  {
   "cell_type": "code",
   "execution_count": 16,
   "outputs": [],
   "source": [
    "# Create a PyTorch model\n",
    "model = ANN()\n",
    "\n",
    "# Optimizer\n",
    "optimizer = torch.optim.Adam(model.parameters(),lr=0.001)\n",
    "\n",
    "# Loss function\n",
    "error = nn.CrossEntropyLoss()"
   ],
   "metadata": {
    "collapsed": false,
    "pycharm": {
     "name": "#%%\n"
    }
   }
  },
  {
   "cell_type": "code",
   "execution_count": 30,
   "outputs": [],
   "source": [
    "from torch.utils.tensorboard import SummaryWriter\n",
    "\n",
    "writer = SummaryWriter()"
   ],
   "metadata": {
    "collapsed": false,
    "pycharm": {
     "name": "#%%\n"
    }
   }
  },
  {
   "cell_type": "code",
   "execution_count": 18,
   "outputs": [
    {
     "name": "stdout",
     "output_type": "stream",
     "text": [
      "Epoch [1/1], Step [100/100], Loss: 0.6324\n"
     ]
    }
   ],
   "source": [
    "# Train the model\n",
    "epochs = 1\n",
    "for epoch in range(epochs):\n",
    "    for i, (inputs, labels) in enumerate(train_loader):\n",
    "        # Forward pass\n",
    "        outputs = model(inputs)\n",
    "        loss = error(outputs, labels)\n",
    "\n",
    "        # Backward and optimize\n",
    "        optimizer.zero_grad()\n",
    "        loss.backward()\n",
    "        optimizer.step()\n",
    "\n",
    "        if (i + 1) % 100 == 0:\n",
    "            writer.add_scalar('Loss training:', loss.item())\n",
    "            writer.add_graph(model, inputs)\n",
    "            print('Epoch [{}/{}], Step [{}/{}], Loss: {:.4f}'\n",
    "                  .format(epoch + 1, epochs, i + 1, len(train_loader), loss.item()))"
   ],
   "metadata": {
    "collapsed": false,
    "pycharm": {
     "name": "#%%\n"
    }
   }
  },
  {
   "cell_type": "code",
   "execution_count": 20,
   "outputs": [
    {
     "name": "stdout",
     "output_type": "stream",
     "text": [
      "Accuracy of the network on the test dataset: 61.152882205513784 %\n"
     ]
    }
   ],
   "source": [
    "# Test the model\n",
    "with torch.no_grad():\n",
    "    correct = 0\n",
    "    total = 0\n",
    "    for inputs, labels in test_loader:\n",
    "        outputs = model(inputs)\n",
    "        _, predicted = torch.max(outputs.data, 1)\n",
    "        total += labels.size(0)\n",
    "        correct += (predicted == labels).sum().item()\n",
    "\n",
    "    print('Accuracy of the network on the test dataset: {} %'.format(100 * correct / total))"
   ],
   "metadata": {
    "collapsed": false,
    "pycharm": {
     "name": "#%%\n"
    }
   }
  },
  {
   "cell_type": "code",
   "execution_count": 96,
   "outputs": [],
   "source": [
    "# Create LSTM model\n",
    "class LSTM(nn.Module):\n",
    "    def __init__(self):\n",
    "        super(LSTM,self).__init__()\n",
    "\n",
    "        self.lstm = nn.LSTM(input_size=512,hidden_size=512,num_layers=2,batch_first=True)\n",
    "        self.linear1 = nn.Linear(512,2000)\n",
    "        self.relu1 = nn.ReLU()\n",
    "\n",
    "        self.linear2 = nn.Linear(2000,500)\n",
    "        self.relu2 = nn.ReLU()\n",
    "\n",
    "        self.linear3 = nn.Linear(500,100)\n",
    "        self.relu3 = nn.ReLU()\n",
    "\n",
    "        self.linear4 = nn.Linear(100,20)\n",
    "        self.relu4 = nn.ReLU()\n",
    "\n",
    "        self.linear5 = nn.Linear(20,1)\n",
    "\n",
    "    def forward(self,x):\n",
    "        out,_ = self.lstm(x)\n",
    "        out = self.linear1(out)\n",
    "        out = self.relu1(out)\n",
    "        # flatten the output\n",
    "        # out = out.view(-1,512)\n",
    "\n",
    "        out = self.linear2(out)\n",
    "        out = self.relu2(out)\n",
    "\n",
    "        out = self.linear3(out)\n",
    "        out = self.relu3(out)\n",
    "\n",
    "        out = self.linear4(out)\n",
    "        out = self.relu4(out)\n",
    "\n",
    "        out = self.linear5(out)\n",
    "\n",
    "        out = torch.sigmoid(out)\n",
    "\n",
    "        return out"
   ],
   "metadata": {
    "collapsed": false,
    "pycharm": {
     "name": "#%%\n"
    }
   }
  },
  {
   "cell_type": "code",
   "execution_count": 97,
   "outputs": [],
   "source": [
    "# Create a PyTorch model\n",
    "model = LSTM()\n",
    "\n",
    "# Optimizer\n",
    "optimizer = torch.optim.Adam(model.parameters(),lr=0.001)\n",
    "\n",
    "# Loss function\n",
    "error = nn.BCELoss()"
   ],
   "metadata": {
    "collapsed": false,
    "pycharm": {
     "name": "#%%\n"
    }
   }
  },
  {
   "cell_type": "code",
   "execution_count": 51,
   "outputs": [
    {
     "name": "stderr",
     "output_type": "stream",
     "text": [
      "/home/fefy/anaconda3/envs/env_base/lib/python3.9/site-packages/torch/_tensor.py:493: UserWarning: non-inplace resize is deprecated\n",
      "  warnings.warn(\"non-inplace resize is deprecated\")\n",
      "/home/fefy/anaconda3/envs/env_base/lib/python3.9/site-packages/torch/_tensor.py:493: UserWarning: non-inplace resize is deprecated\n",
      "  warnings.warn(\"non-inplace resize is deprecated\")\n"
     ]
    }
   ],
   "source": [
    "from sklearn.preprocessing import MinMaxScaler\n",
    "mms = MinMaxScaler(feature_range=(0,1))\n",
    "\n",
    "# Create PyTorch datasets\n",
    "# train_dataset_lstm = torch.utils.data.TensorDataset(\n",
    "#     torch.from_numpy(\n",
    "#         mms.fit_transform(torch.stack(tuple(train_data.tokens.values)).numpy()))\n",
    "#         .resize(train_data.tokens.values.shape[0], 1, 512),\n",
    "#                     torch.tensor([[float(0 == x), float(1 == x)] for x in train_data.Label.values]))\n",
    "#\n",
    "# test_dataset_lstm = torch.utils.data.TensorDataset(\n",
    "#                 torch.from_numpy(\n",
    "#                     mms.fit_transform(torch.stack(tuple(test_data.tokens.values)).numpy()))\n",
    "#                     .resize(test_data.tokens.values.shape[0], 1, 512),\n",
    "#                     torch.tensor([[float(0 == x), float(1 == x)] for x in test_data.Label.values]))\n",
    "\n",
    "train_dataset_lstm = torch.utils.data.TensorDataset(\n",
    "    torch.from_numpy(\n",
    "        mms.fit_transform(torch.stack(tuple(train_data.tokens.values)).numpy()))\n",
    "        .resize(train_data.tokens.values.shape[0], 1, 512),\n",
    "                    torch.tensor(train_data.Label.values))\n",
    "\n",
    "test_dataset_lstm = torch.utils.data.TensorDataset(\n",
    "                torch.from_numpy(\n",
    "                    mms.fit_transform(torch.stack(tuple(test_data.tokens.values)).numpy()))\n",
    "                    .resize(test_data.tokens.values.shape[0], 1, 512),\n",
    "                    torch.tensor(test_data.Label.values))\n",
    "\n",
    "# Create PyTorch data loaders\n",
    "train_loader_lstm = torch.utils.data.DataLoader(train_dataset_lstm, batch_size=32, shuffle=True)\n",
    "test_loader_lstm = torch.utils.data.DataLoader(test_dataset_lstm, batch_size=32, shuffle=True)"
   ],
   "metadata": {
    "collapsed": false,
    "pycharm": {
     "name": "#%%\n"
    }
   }
  },
  {
   "cell_type": "code",
   "execution_count": 107,
   "outputs": [
    {
     "name": "stdout",
     "output_type": "stream",
     "text": [
      "Epoch [1/10], Step [100/100], Loss: 0.0136\n",
      "Epoch [2/10], Step [100/100], Loss: 0.0008\n",
      "Epoch [3/10], Step [100/100], Loss: 0.1430\n",
      "Epoch [4/10], Step [100/100], Loss: 0.0003\n",
      "Epoch [5/10], Step [100/100], Loss: 0.0564\n",
      "Epoch [6/10], Step [100/100], Loss: 0.0071\n",
      "Epoch [7/10], Step [100/100], Loss: 0.0126\n",
      "Epoch [8/10], Step [100/100], Loss: 0.0094\n",
      "Epoch [9/10], Step [100/100], Loss: 0.0012\n",
      "Epoch [10/10], Step [100/100], Loss: 0.0001\n"
     ]
    }
   ],
   "source": [
    "# Train the model\n",
    "epochs = 10\n",
    "for epoch in range(epochs):\n",
    "    for i, (inputs, labels) in enumerate(train_loader_lstm):\n",
    "        # Forward pass\n",
    "        outputs = model(inputs)\n",
    "        # outputs = torch.argmax(outputs, dim=-1)\n",
    "\n",
    "        # Flatten the outputs\n",
    "        outputs = outputs.view(-1)\n",
    "        # outputs = outputs.float().clone().detach().requires_grad_(True)\n",
    "        labels = labels.float()\n",
    "\n",
    "        loss = error(outputs, labels)\n",
    "\n",
    "        # Backward and optimize\n",
    "        optimizer.zero_grad()\n",
    "        loss.backward()\n",
    "        optimizer.step()\n",
    "\n",
    "        if (i + 1) % 100 == 0:\n",
    "            writer.add_scalar('Loss training:', loss.item())\n",
    "            writer.add_graph(model, inputs)\n",
    "            print('Epoch [{}/{}], Step [{}/{}], Loss: {:.4f}'\n",
    "                  .format(epoch + 1, epochs, i + 1, len(train_loader_lstm), loss.item()))"
   ],
   "metadata": {
    "collapsed": false,
    "pycharm": {
     "name": "#%%\n"
    }
   }
  },
  {
   "cell_type": "code",
   "execution_count": 95,
   "outputs": [
    {
     "data": {
      "text/plain": "torch.Size([64])"
     },
     "execution_count": 95,
     "metadata": {},
     "output_type": "execute_result"
    }
   ],
   "source": [
    "# torch.argmax(outputs, dim=-1)\n",
    "outputs.view(-1).shape"
   ],
   "metadata": {
    "collapsed": false,
    "pycharm": {
     "name": "#%%\n"
    }
   }
  },
  {
   "cell_type": "code",
   "execution_count": 109,
   "outputs": [
    {
     "name": "stdout",
     "output_type": "stream",
     "text": [
      "Accuracy of the model on the test images: 53.258145363408524 %\n"
     ]
    }
   ],
   "source": [
    "# Test the model\n",
    "with torch.no_grad():\n",
    "    correct = 0\n",
    "    total = 0\n",
    "    for inputs, labels in test_loader_lstm:\n",
    "        outputs = model(inputs)\n",
    "        outputs = outputs.view(-1)\n",
    "        labels = labels.float()\n",
    "\n",
    "        _, predicted = torch.max(outputs.data.reshape(-1,1), 1)\n",
    "        total += labels.size(0)\n",
    "        correct += (predicted == labels).sum().item()\n",
    "    print('Accuracy of the model on the test images: {} %'.format(100 * correct / total))\n",
    "\n"
   ],
   "metadata": {
    "collapsed": false,
    "pycharm": {
     "name": "#%%\n"
    }
   }
  },
  {
   "cell_type": "code",
   "execution_count": null,
   "outputs": [],
   "source": [
    "!tensorboard --logdir=runs"
   ],
   "metadata": {
    "collapsed": false,
    "pycharm": {
     "name": "#%%\n",
     "is_executing": true
    }
   }
  }
 ],
 "metadata": {
  "kernelspec": {
   "display_name": "Python 3",
   "language": "python",
   "name": "python3"
  },
  "language_info": {
   "codemirror_mode": {
    "name": "ipython",
    "version": 2
   },
   "file_extension": ".py",
   "mimetype": "text/x-python",
   "name": "python",
   "nbconvert_exporter": "python",
   "pygments_lexer": "ipython2",
   "version": "2.7.6"
  }
 },
 "nbformat": 4,
 "nbformat_minor": 0
}
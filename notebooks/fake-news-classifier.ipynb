{
 "cells": [
  {
   "cell_type": "code",
   "execution_count": 1,
   "metadata": {
    "_cell_guid": "b1076dfc-b9ad-4769-8c92-a6c4dae69d19",
    "_uuid": "8f2839f25d086af736a60e9eeb907d3b93b6e0e5",
    "execution": {
     "iopub.execute_input": "2021-03-21T09:14:53.091075Z",
     "iopub.status.busy": "2021-03-21T09:14:53.090047Z",
     "iopub.status.idle": "2021-03-21T09:14:53.093341Z",
     "shell.execute_reply": "2021-03-21T09:14:53.093832Z"
    },
    "papermill": {
     "duration": 0.033501,
     "end_time": "2021-03-21T09:14:53.094187",
     "exception": false,
     "start_time": "2021-03-21T09:14:53.060686",
     "status": "completed"
    },
    "tags": [],
    "pycharm": {
     "name": "#%%\n"
    }
   },
   "outputs": [],
   "source": [
    "import pandas as pd\n",
    "from sklearn.feature_extraction.text import CountVectorizer, TfidfVectorizer"
   ]
  },
  {
   "cell_type": "code",
   "execution_count": 2,
   "metadata": {
    "execution": {
     "iopub.execute_input": "2021-03-21T09:14:53.144025Z",
     "iopub.status.busy": "2021-03-21T09:14:53.143358Z",
     "iopub.status.idle": "2021-03-21T09:14:53.609658Z",
     "shell.execute_reply": "2021-03-21T09:14:53.610248Z"
    },
    "papermill": {
     "duration": 0.49401,
     "end_time": "2021-03-21T09:14:53.610445",
     "exception": false,
     "start_time": "2021-03-21T09:14:53.116435",
     "status": "completed"
    },
    "tags": [],
    "pycharm": {
     "name": "#%%\n"
    }
   },
   "outputs": [],
   "source": [
    "df=pd.read_csv('data.csv')"
   ]
  },
  {
   "cell_type": "code",
   "execution_count": 3,
   "metadata": {
    "execution": {
     "iopub.execute_input": "2021-03-21T09:14:53.658342Z",
     "iopub.status.busy": "2021-03-21T09:14:53.657623Z",
     "iopub.status.idle": "2021-03-21T09:14:53.691725Z",
     "shell.execute_reply": "2021-03-21T09:14:53.692296Z"
    },
    "papermill": {
     "duration": 0.059719,
     "end_time": "2021-03-21T09:14:53.692481",
     "exception": false,
     "start_time": "2021-03-21T09:14:53.632762",
     "status": "completed"
    },
    "tags": [],
    "pycharm": {
     "name": "#%%\n"
    }
   },
   "outputs": [
    {
     "data": {
      "text/html": [
       "<div>\n",
       "<style scoped>\n",
       "    .dataframe tbody tr th:only-of-type {\n",
       "        vertical-align: middle;\n",
       "    }\n",
       "\n",
       "    .dataframe tbody tr th {\n",
       "        vertical-align: top;\n",
       "    }\n",
       "\n",
       "    .dataframe thead th {\n",
       "        text-align: right;\n",
       "    }\n",
       "</style>\n",
       "<table border=\"1\" class=\"dataframe\">\n",
       "  <thead>\n",
       "    <tr style=\"text-align: right;\">\n",
       "      <th></th>\n",
       "      <th>URLs</th>\n",
       "      <th>Headline</th>\n",
       "      <th>Body</th>\n",
       "      <th>Label</th>\n",
       "    </tr>\n",
       "  </thead>\n",
       "  <tbody>\n",
       "    <tr>\n",
       "      <th>0</th>\n",
       "      <td>http://www.bbc.com/news/world-us-canada-414191...</td>\n",
       "      <td>Four ways Bob Corker skewered Donald Trump</td>\n",
       "      <td>Image copyright Getty Images\\nOn Sunday mornin...</td>\n",
       "      <td>1</td>\n",
       "    </tr>\n",
       "    <tr>\n",
       "      <th>1</th>\n",
       "      <td>https://www.reuters.com/article/us-filmfestiva...</td>\n",
       "      <td>Linklater's war veteran comedy speaks to moder...</td>\n",
       "      <td>LONDON (Reuters) - “Last Flag Flying”, a comed...</td>\n",
       "      <td>1</td>\n",
       "    </tr>\n",
       "    <tr>\n",
       "      <th>2</th>\n",
       "      <td>https://www.nytimes.com/2017/10/09/us/politics...</td>\n",
       "      <td>Trump’s Fight With Corker Jeopardizes His Legi...</td>\n",
       "      <td>The feud broke into public view last week when...</td>\n",
       "      <td>1</td>\n",
       "    </tr>\n",
       "    <tr>\n",
       "      <th>3</th>\n",
       "      <td>https://www.reuters.com/article/us-mexico-oil-...</td>\n",
       "      <td>Egypt's Cheiron wins tie-up with Pemex for Mex...</td>\n",
       "      <td>MEXICO CITY (Reuters) - Egypt’s Cheiron Holdin...</td>\n",
       "      <td>1</td>\n",
       "    </tr>\n",
       "    <tr>\n",
       "      <th>4</th>\n",
       "      <td>http://www.cnn.com/videos/cnnmoney/2017/10/08/...</td>\n",
       "      <td>Jason Aldean opens 'SNL' with Vegas tribute</td>\n",
       "      <td>Country singer Jason Aldean, who was performin...</td>\n",
       "      <td>1</td>\n",
       "    </tr>\n",
       "  </tbody>\n",
       "</table>\n",
       "</div>"
      ],
      "text/plain": [
       "                                                URLs  \\\n",
       "0  http://www.bbc.com/news/world-us-canada-414191...   \n",
       "1  https://www.reuters.com/article/us-filmfestiva...   \n",
       "2  https://www.nytimes.com/2017/10/09/us/politics...   \n",
       "3  https://www.reuters.com/article/us-mexico-oil-...   \n",
       "4  http://www.cnn.com/videos/cnnmoney/2017/10/08/...   \n",
       "\n",
       "                                            Headline  \\\n",
       "0         Four ways Bob Corker skewered Donald Trump   \n",
       "1  Linklater's war veteran comedy speaks to moder...   \n",
       "2  Trump’s Fight With Corker Jeopardizes His Legi...   \n",
       "3  Egypt's Cheiron wins tie-up with Pemex for Mex...   \n",
       "4        Jason Aldean opens 'SNL' with Vegas tribute   \n",
       "\n",
       "                                                Body  Label  \n",
       "0  Image copyright Getty Images\\nOn Sunday mornin...      1  \n",
       "1  LONDON (Reuters) - “Last Flag Flying”, a comed...      1  \n",
       "2  The feud broke into public view last week when...      1  \n",
       "3  MEXICO CITY (Reuters) - Egypt’s Cheiron Holdin...      1  \n",
       "4  Country singer Jason Aldean, who was performin...      1  "
      ]
     },
     "execution_count": 3,
     "metadata": {},
     "output_type": "execute_result"
    }
   ],
   "source": [
    "df.head()"
   ]
  },
  {
   "cell_type": "markdown",
   "metadata": {
    "papermill": {
     "duration": 0.02512,
     "end_time": "2021-03-21T09:14:53.741250",
     "exception": false,
     "start_time": "2021-03-21T09:14:53.716130",
     "status": "completed"
    },
    "tags": [],
    "pycharm": {
     "name": "#%% md\n"
    }
   },
   "source": [
    "# Data Preprocessing"
   ]
  },
  {
   "cell_type": "code",
   "execution_count": 4,
   "metadata": {
    "execution": {
     "iopub.execute_input": "2021-03-21T09:14:53.792990Z",
     "iopub.status.busy": "2021-03-21T09:14:53.792321Z",
     "iopub.status.idle": "2021-03-21T09:14:53.794802Z",
     "shell.execute_reply": "2021-03-21T09:14:53.795358Z"
    },
    "papermill": {
     "duration": 0.031717,
     "end_time": "2021-03-21T09:14:53.795568",
     "exception": false,
     "start_time": "2021-03-21T09:14:53.763851",
     "status": "completed"
    },
    "tags": [],
    "pycharm": {
     "name": "#%%\n"
    }
   },
   "outputs": [],
   "source": [
    "## Get the Independent Features\n",
    "X=df.drop('Label',axis=1)"
   ]
  },
  {
   "cell_type": "code",
   "execution_count": 5,
   "metadata": {
    "execution": {
     "iopub.execute_input": "2021-03-21T09:14:53.845546Z",
     "iopub.status.busy": "2021-03-21T09:14:53.844817Z",
     "iopub.status.idle": "2021-03-21T09:14:53.857200Z",
     "shell.execute_reply": "2021-03-21T09:14:53.857727Z"
    },
    "papermill": {
     "duration": 0.03906,
     "end_time": "2021-03-21T09:14:53.857927",
     "exception": false,
     "start_time": "2021-03-21T09:14:53.818867",
     "status": "completed"
    },
    "tags": [],
    "pycharm": {
     "name": "#%%\n"
    }
   },
   "outputs": [
    {
     "data": {
      "text/html": [
       "<div>\n",
       "<style scoped>\n",
       "    .dataframe tbody tr th:only-of-type {\n",
       "        vertical-align: middle;\n",
       "    }\n",
       "\n",
       "    .dataframe tbody tr th {\n",
       "        vertical-align: top;\n",
       "    }\n",
       "\n",
       "    .dataframe thead th {\n",
       "        text-align: right;\n",
       "    }\n",
       "</style>\n",
       "<table border=\"1\" class=\"dataframe\">\n",
       "  <thead>\n",
       "    <tr style=\"text-align: right;\">\n",
       "      <th></th>\n",
       "      <th>URLs</th>\n",
       "      <th>Headline</th>\n",
       "      <th>Body</th>\n",
       "    </tr>\n",
       "  </thead>\n",
       "  <tbody>\n",
       "    <tr>\n",
       "      <th>0</th>\n",
       "      <td>http://www.bbc.com/news/world-us-canada-414191...</td>\n",
       "      <td>Four ways Bob Corker skewered Donald Trump</td>\n",
       "      <td>Image copyright Getty Images\\nOn Sunday mornin...</td>\n",
       "    </tr>\n",
       "    <tr>\n",
       "      <th>1</th>\n",
       "      <td>https://www.reuters.com/article/us-filmfestiva...</td>\n",
       "      <td>Linklater's war veteran comedy speaks to moder...</td>\n",
       "      <td>LONDON (Reuters) - “Last Flag Flying”, a comed...</td>\n",
       "    </tr>\n",
       "    <tr>\n",
       "      <th>2</th>\n",
       "      <td>https://www.nytimes.com/2017/10/09/us/politics...</td>\n",
       "      <td>Trump’s Fight With Corker Jeopardizes His Legi...</td>\n",
       "      <td>The feud broke into public view last week when...</td>\n",
       "    </tr>\n",
       "    <tr>\n",
       "      <th>3</th>\n",
       "      <td>https://www.reuters.com/article/us-mexico-oil-...</td>\n",
       "      <td>Egypt's Cheiron wins tie-up with Pemex for Mex...</td>\n",
       "      <td>MEXICO CITY (Reuters) - Egypt’s Cheiron Holdin...</td>\n",
       "    </tr>\n",
       "    <tr>\n",
       "      <th>4</th>\n",
       "      <td>http://www.cnn.com/videos/cnnmoney/2017/10/08/...</td>\n",
       "      <td>Jason Aldean opens 'SNL' with Vegas tribute</td>\n",
       "      <td>Country singer Jason Aldean, who was performin...</td>\n",
       "    </tr>\n",
       "  </tbody>\n",
       "</table>\n",
       "</div>"
      ],
      "text/plain": [
       "                                                URLs  \\\n",
       "0  http://www.bbc.com/news/world-us-canada-414191...   \n",
       "1  https://www.reuters.com/article/us-filmfestiva...   \n",
       "2  https://www.nytimes.com/2017/10/09/us/politics...   \n",
       "3  https://www.reuters.com/article/us-mexico-oil-...   \n",
       "4  http://www.cnn.com/videos/cnnmoney/2017/10/08/...   \n",
       "\n",
       "                                            Headline  \\\n",
       "0         Four ways Bob Corker skewered Donald Trump   \n",
       "1  Linklater's war veteran comedy speaks to moder...   \n",
       "2  Trump’s Fight With Corker Jeopardizes His Legi...   \n",
       "3  Egypt's Cheiron wins tie-up with Pemex for Mex...   \n",
       "4        Jason Aldean opens 'SNL' with Vegas tribute   \n",
       "\n",
       "                                                Body  \n",
       "0  Image copyright Getty Images\\nOn Sunday mornin...  \n",
       "1  LONDON (Reuters) - “Last Flag Flying”, a comed...  \n",
       "2  The feud broke into public view last week when...  \n",
       "3  MEXICO CITY (Reuters) - Egypt’s Cheiron Holdin...  \n",
       "4  Country singer Jason Aldean, who was performin...  "
      ]
     },
     "execution_count": 5,
     "metadata": {},
     "output_type": "execute_result"
    }
   ],
   "source": [
    "X.head()"
   ]
  },
  {
   "cell_type": "code",
   "execution_count": 6,
   "metadata": {
    "execution": {
     "iopub.execute_input": "2021-03-21T09:14:53.911798Z",
     "iopub.status.busy": "2021-03-21T09:14:53.910877Z",
     "iopub.status.idle": "2021-03-21T09:14:53.914667Z",
     "shell.execute_reply": "2021-03-21T09:14:53.914120Z"
    },
    "papermill": {
     "duration": 0.032649,
     "end_time": "2021-03-21T09:14:53.914825",
     "exception": false,
     "start_time": "2021-03-21T09:14:53.882176",
     "status": "completed"
    },
    "tags": [],
    "pycharm": {
     "name": "#%%\n"
    }
   },
   "outputs": [],
   "source": [
    "y=df['Label']\n",
    "y.head()"
   ]
  },
  {
   "cell_type": "code",
   "execution_count": 10,
   "metadata": {
    "execution": {
     "iopub.execute_input": "2021-03-21T09:14:55.312935Z",
     "iopub.status.busy": "2021-03-21T09:14:55.311961Z",
     "iopub.status.idle": "2021-03-21T09:14:55.341328Z",
     "shell.execute_reply": "2021-03-21T09:14:55.342035Z"
    },
    "papermill": {
     "duration": 0.069392,
     "end_time": "2021-03-21T09:14:55.342307",
     "exception": false,
     "start_time": "2021-03-21T09:14:55.272915",
     "status": "completed"
    },
    "tags": [],
    "pycharm": {
     "name": "#%%\n"
    }
   },
   "outputs": [],
   "source": [
    "df=df.dropna()\n",
    "df.shape"
   ]
  },
  {
   "cell_type": "code",
   "execution_count": 12,
   "metadata": {
    "execution": {
     "iopub.execute_input": "2021-03-21T09:14:55.475327Z",
     "iopub.status.busy": "2021-03-21T09:14:55.474232Z",
     "iopub.status.idle": "2021-03-21T09:14:55.480376Z",
     "shell.execute_reply": "2021-03-21T09:14:55.480928Z"
    },
    "papermill": {
     "duration": 0.037924,
     "end_time": "2021-03-21T09:14:55.481165",
     "exception": false,
     "start_time": "2021-03-21T09:14:55.443241",
     "status": "completed"
    },
    "tags": [],
    "pycharm": {
     "name": "#%%\n"
    }
   },
   "outputs": [],
   "source": [
    "messages=df.copy()\n",
    "messages.reset_index(inplace=True)## reseting the index after eliminating nan values\n",
    "\n",
    "messages.head(10)"
   ]
  },
  {
   "cell_type": "code",
   "execution_count": 13,
   "metadata": {
    "execution": {
     "iopub.execute_input": "2021-03-21T09:14:55.542794Z",
     "iopub.status.busy": "2021-03-21T09:14:55.542133Z",
     "iopub.status.idle": "2021-03-21T09:14:55.546149Z",
     "shell.execute_reply": "2021-03-21T09:14:55.545467Z"
    },
    "papermill": {
     "duration": 0.037392,
     "end_time": "2021-03-21T09:14:55.546308",
     "exception": false,
     "start_time": "2021-03-21T09:14:55.508916",
     "status": "completed"
    },
    "tags": [],
    "pycharm": {
     "name": "#%%\n"
    }
   },
   "outputs": [],
   "source": []
  },
  {
   "cell_type": "code",
   "execution_count": 14,
   "metadata": {
    "execution": {
     "iopub.execute_input": "2021-03-21T09:14:55.602146Z",
     "iopub.status.busy": "2021-03-21T09:14:55.601406Z",
     "iopub.status.idle": "2021-03-21T09:14:55.615528Z",
     "shell.execute_reply": "2021-03-21T09:14:55.616050Z"
    },
    "papermill": {
     "duration": 0.043538,
     "end_time": "2021-03-21T09:14:55.616260",
     "exception": false,
     "start_time": "2021-03-21T09:14:55.572722",
     "status": "completed"
    },
    "tags": [],
    "pycharm": {
     "name": "#%%\n"
    }
   },
   "outputs": [
    {
     "data": {
      "text/html": [
       "<div>\n",
       "<style scoped>\n",
       "    .dataframe tbody tr th:only-of-type {\n",
       "        vertical-align: middle;\n",
       "    }\n",
       "\n",
       "    .dataframe tbody tr th {\n",
       "        vertical-align: top;\n",
       "    }\n",
       "\n",
       "    .dataframe thead th {\n",
       "        text-align: right;\n",
       "    }\n",
       "</style>\n",
       "<table border=\"1\" class=\"dataframe\">\n",
       "  <thead>\n",
       "    <tr style=\"text-align: right;\">\n",
       "      <th></th>\n",
       "      <th>index</th>\n",
       "      <th>URLs</th>\n",
       "      <th>Headline</th>\n",
       "      <th>Body</th>\n",
       "      <th>Label</th>\n",
       "    </tr>\n",
       "  </thead>\n",
       "  <tbody>\n",
       "    <tr>\n",
       "      <th>0</th>\n",
       "      <td>0</td>\n",
       "      <td>http://www.bbc.com/news/world-us-canada-414191...</td>\n",
       "      <td>Four ways Bob Corker skewered Donald Trump</td>\n",
       "      <td>Image copyright Getty Images\\nOn Sunday mornin...</td>\n",
       "      <td>1</td>\n",
       "    </tr>\n",
       "    <tr>\n",
       "      <th>1</th>\n",
       "      <td>1</td>\n",
       "      <td>https://www.reuters.com/article/us-filmfestiva...</td>\n",
       "      <td>Linklater's war veteran comedy speaks to moder...</td>\n",
       "      <td>LONDON (Reuters) - “Last Flag Flying”, a comed...</td>\n",
       "      <td>1</td>\n",
       "    </tr>\n",
       "    <tr>\n",
       "      <th>2</th>\n",
       "      <td>2</td>\n",
       "      <td>https://www.nytimes.com/2017/10/09/us/politics...</td>\n",
       "      <td>Trump’s Fight With Corker Jeopardizes His Legi...</td>\n",
       "      <td>The feud broke into public view last week when...</td>\n",
       "      <td>1</td>\n",
       "    </tr>\n",
       "    <tr>\n",
       "      <th>3</th>\n",
       "      <td>3</td>\n",
       "      <td>https://www.reuters.com/article/us-mexico-oil-...</td>\n",
       "      <td>Egypt's Cheiron wins tie-up with Pemex for Mex...</td>\n",
       "      <td>MEXICO CITY (Reuters) - Egypt’s Cheiron Holdin...</td>\n",
       "      <td>1</td>\n",
       "    </tr>\n",
       "    <tr>\n",
       "      <th>4</th>\n",
       "      <td>4</td>\n",
       "      <td>http://www.cnn.com/videos/cnnmoney/2017/10/08/...</td>\n",
       "      <td>Jason Aldean opens 'SNL' with Vegas tribute</td>\n",
       "      <td>Country singer Jason Aldean, who was performin...</td>\n",
       "      <td>1</td>\n",
       "    </tr>\n",
       "    <tr>\n",
       "      <th>5</th>\n",
       "      <td>5</td>\n",
       "      <td>http://beforeitsnews.com/sports/2017/09/jetnat...</td>\n",
       "      <td>JetNation FanDuel League; Week 4</td>\n",
       "      <td>JetNation FanDuel League; Week 4\\n% of readers...</td>\n",
       "      <td>0</td>\n",
       "    </tr>\n",
       "    <tr>\n",
       "      <th>6</th>\n",
       "      <td>6</td>\n",
       "      <td>https://www.nytimes.com/2017/10/10/us/politics...</td>\n",
       "      <td>Kansas Tried a Tax Plan Similar to Trump’s. It...</td>\n",
       "      <td>In 2012, Kansas lawmakers, led by Gov. Sam Bro...</td>\n",
       "      <td>1</td>\n",
       "    </tr>\n",
       "    <tr>\n",
       "      <th>7</th>\n",
       "      <td>7</td>\n",
       "      <td>https://www.reuters.com/article/us-india-cenba...</td>\n",
       "      <td>India RBI chief: growth important, but not at ...</td>\n",
       "      <td>The Reserve Bank of India (RBI) Governor Urjit...</td>\n",
       "      <td>1</td>\n",
       "    </tr>\n",
       "    <tr>\n",
       "      <th>8</th>\n",
       "      <td>8</td>\n",
       "      <td>https://www.reuters.com/article/us-climatechan...</td>\n",
       "      <td>EPA chief to sign rule on Clean Power Plan exi...</td>\n",
       "      <td>Scott Pruitt, Administrator of the U.S. Enviro...</td>\n",
       "      <td>1</td>\n",
       "    </tr>\n",
       "    <tr>\n",
       "      <th>9</th>\n",
       "      <td>9</td>\n",
       "      <td>https://www.reuters.com/article/us-air-berlin-...</td>\n",
       "      <td>Talks on sale of Air Berlin planes to easyJet ...</td>\n",
       "      <td>FILE PHOTO - An Air Berlin sign is seen at an ...</td>\n",
       "      <td>1</td>\n",
       "    </tr>\n",
       "  </tbody>\n",
       "</table>\n",
       "</div>"
      ],
      "text/plain": [
       "   index                                               URLs  \\\n",
       "0      0  http://www.bbc.com/news/world-us-canada-414191...   \n",
       "1      1  https://www.reuters.com/article/us-filmfestiva...   \n",
       "2      2  https://www.nytimes.com/2017/10/09/us/politics...   \n",
       "3      3  https://www.reuters.com/article/us-mexico-oil-...   \n",
       "4      4  http://www.cnn.com/videos/cnnmoney/2017/10/08/...   \n",
       "5      5  http://beforeitsnews.com/sports/2017/09/jetnat...   \n",
       "6      6  https://www.nytimes.com/2017/10/10/us/politics...   \n",
       "7      7  https://www.reuters.com/article/us-india-cenba...   \n",
       "8      8  https://www.reuters.com/article/us-climatechan...   \n",
       "9      9  https://www.reuters.com/article/us-air-berlin-...   \n",
       "\n",
       "                                            Headline  \\\n",
       "0         Four ways Bob Corker skewered Donald Trump   \n",
       "1  Linklater's war veteran comedy speaks to moder...   \n",
       "2  Trump’s Fight With Corker Jeopardizes His Legi...   \n",
       "3  Egypt's Cheiron wins tie-up with Pemex for Mex...   \n",
       "4        Jason Aldean opens 'SNL' with Vegas tribute   \n",
       "5                   JetNation FanDuel League; Week 4   \n",
       "6  Kansas Tried a Tax Plan Similar to Trump’s. It...   \n",
       "7  India RBI chief: growth important, but not at ...   \n",
       "8  EPA chief to sign rule on Clean Power Plan exi...   \n",
       "9  Talks on sale of Air Berlin planes to easyJet ...   \n",
       "\n",
       "                                                Body  Label  \n",
       "0  Image copyright Getty Images\\nOn Sunday mornin...      1  \n",
       "1  LONDON (Reuters) - “Last Flag Flying”, a comed...      1  \n",
       "2  The feud broke into public view last week when...      1  \n",
       "3  MEXICO CITY (Reuters) - Egypt’s Cheiron Holdin...      1  \n",
       "4  Country singer Jason Aldean, who was performin...      1  \n",
       "5  JetNation FanDuel League; Week 4\\n% of readers...      0  \n",
       "6  In 2012, Kansas lawmakers, led by Gov. Sam Bro...      1  \n",
       "7  The Reserve Bank of India (RBI) Governor Urjit...      1  \n",
       "8  Scott Pruitt, Administrator of the U.S. Enviro...      1  \n",
       "9  FILE PHOTO - An Air Berlin sign is seen at an ...      1  "
      ]
     },
     "execution_count": 14,
     "metadata": {},
     "output_type": "execute_result"
    }
   ],
   "source": []
  },
  {
   "cell_type": "code",
   "execution_count": 15,
   "metadata": {
    "execution": {
     "iopub.execute_input": "2021-03-21T09:14:55.674540Z",
     "iopub.status.busy": "2021-03-21T09:14:55.673844Z",
     "iopub.status.idle": "2021-03-21T09:14:55.678506Z",
     "shell.execute_reply": "2021-03-21T09:14:55.677830Z"
    },
    "papermill": {
     "duration": 0.036177,
     "end_time": "2021-03-21T09:14:55.678658",
     "exception": false,
     "start_time": "2021-03-21T09:14:55.642481",
     "status": "completed"
    },
    "scrolled": true,
    "tags": [],
    "pycharm": {
     "name": "#%%\n"
    }
   },
   "outputs": [
    {
     "data": {
      "text/plain": [
       "\"In 2012, Kansas lawmakers, led by Gov. Sam Brownback, a Republican, enacted a tax cut that eliminated state income taxes entirely for pass-through entities — such as sole proprietorships and limited liability partnerships — which are taxed at the owner’s individual income tax rate. The law also lowered individual income tax rates, cutting the top rate to 4.9 percent from 6.4 percent.\\nThe tax package reduced state revenue by nearly $700 million a year, a drop of about 8 percent, from 2013 through 2016, according to the Kansas Legislative Research Department, forcing officials to shorten school calendars, delay highway repairs and reduce aid to the poor. Research suggests the package did not stimulate the economy, certainly not enough to pay for the tax cut. This year, legislators passed a bill to largely rescind the law, saying it had not worked as intended.\\n“It caused a lot of budget instability,” said State Senator Jim Denning, a Republican who led the effort to repeal the pass-through exemption this year. Mr. Denning, who earns pass-through income from his interest in a commercial real estate firm, said he had personally benefited from the exemption, but the state’s economy had not.\\nThe pass-through exemption was responsible for $200 million to $300 million of that annual shortfall, according to budget researchers at the Tax Foundation in Washington. Between 2012 and 2015, the total number of Kansans claiming pass-through income grew 20 percent, to about 393,000 from about 330,000. A team of researchers from the University of South Carolina and other institutions who studied the impact of the tax change found the top 2 percent of Kansas earners reaped the largest gains from shifting income to pass-throughs.\\nParticipation at the federal level could be far more dramatic — with tax benefits dwarfing those enjoyed in Kansas. The top income tax rate in Kansas before the 2012 law was 6.4 percent. This year, it will be 5.2 percent, growing to 5.7 percent in 2018. The top federal rate is 39.6 percent, offering a significantly bigger incentive for tax avoidance if pass-throughs are taxed at 25 percent. Already, 70 percent of pass-through income flows to the top 1 percent of American income earners, Owen Zidar, an economist at the University of Chicago Booth School of Business, has found.\\nRepublicans are considering lowering the top individual tax rate to 35 percent, but Mr. Trump has said he would maintain a higher rate on top earners in an effort to keep the income tax structure as progressive as it is now.\\nPhoto\\n“The experience of Kansas shows that lawmakers should be cautious about taxing income from pass-through businesses at different rates than wages and salaries,” said Scott Greenberg, a senior analyst at the nonpartisan Tax Foundation in Washington, which models tax proposals’ likely effects on the economy. A pass-through cut, he added, would probably produce less growth than many other, less expensive tax policy changes.\\nAdvertisement Continue reading the main story\\nRepublicans say they will erect guardrails to prevent workers from reclassifying themselves as contractors to exploit the lower rate. But their plan does not provide specifics, and tax experts say it will be difficult to restrict high-income individuals from diverting income through a pass-through.\\nPass-throughs have long been favored by small businesses such as dental offices and family farms, but their use has expanded to include many financial and real estate firms. Mr. Trump’s business empire is largely run through hundreds of pass-through companies. The structure is also popular among consultants and other high-earning independent contractors; former President Bill Clinton, for example, receives payment for speeches through a pass-through entity.\\nNewsletter Sign Up Continue reading the main story Please verify you're not a robot by clicking the box. Invalid email address. Please re-enter. You must select a newsletter to subscribe to. Sign Up You agree to receive occasional updates and special offers for The New York Times's products and services. Thank you for subscribing. An error has occurred. Please try again later. View all New York Times newsletters.\\nUsing a random sample of state tax returns, Jason DeBacker of the University of South Carolina Darla Moore School of Business, Bradley Heim and Justin M. Ross of Indiana University, and Shanthi Ramnath of the Treasury Department isolated the number of workers in Kansas who routed income through pass-through entities after the law passed, even though they continued to earn that income from the same source. They found more than 2,200 Kansans had done so, about 0.2 percent of workers in the state.\\nIf the rest of the country saw the same reclassification trend as Kansas, Mr. DeBacker said, nearly 250,000 Americans would use the technique to lower their tax bills. He cautioned that the number could be larger, because the gap between the top tax rates on labor income and pass-through income would be substantially wider than it was in Kansas, and because tax professionals would have greater incentive to specialize in helping wage earners form pass-throughs.\\n“I’m not going to go through the hassle of reclassifying myself just to save $10,” said Joseph Rosenberg, a senior research associate at the Tax Policy Center in Washington. “I’m only going to do it if there’s a payoff, and the 10 percentage points would make a difference for me.”\\nMr. Rosenberg and two colleagues estimate that such shifts could reduce federal revenues by at least $41 billion a year. Most of that, $39 billion, would come from existing pass-through owners paying lower taxes. The rest would come from wealthy individuals routing income through pass-throughs to minimize taxes.\\nDefenders of the Kansas experiment say that the pass-through cut led to more new businesses forming, while modestly raising growth at a time when the state’s key industries — aerospace, agriculture and energy production — were faltering.\\nThey say that the state’s budget woes came from lawmakers’ unwillingness to impose spending cuts alongside the tax cuts, and that it was never realistic to expect the tax cuts to produce enough growth to pay for themselves.\\n“Those are effusive political hopes — that’s not economic analysis,” said Dave Trabert, the president of the Kansas Policy Institute, a free-market think tank. “It’s pretty common for people to hope that something is going to have a tremendous, I think Governor Brownback’s phrase was, ‘shot of adrenaline.’ That’s not how economies work.”\\nAdvertisement Continue reading the main story\\nMr. Beaty, the Kansas football coach, was able to shield at least $575,000 a year from income taxation by routing that money through his limited liability company, according to state records. (That amount grew to $1.375 million a year in a contract extension Mr. Beaty signed in December 2016.) Next year, as a result of the recent change in state law, Mr. Beaty will face a tax liability of nearly $80,000 on his pass-through income.\\nOfficials in the Kansas athletics department referred questions about whether tax considerations factored into Mr. Beaty’s contract structure to Mr. Beaty’s agent, Kyle Strongin, who declined to comment.\\nSome other prominent coaches in the state, including the Kansas men’s basketball coach, Bill Self, have long received some of their salaries through pass-through entities. Other coaches do not, including the Wichita State University men’s basketball coach Gregg Marshall, who earns $3 million a year entirely as labor income.\""
      ]
     },
     "execution_count": 15,
     "metadata": {},
     "output_type": "execute_result"
    }
   ],
   "source": [
    "messages['Body'][6]"
   ]
  },
  {
   "cell_type": "markdown",
   "metadata": {
    "papermill": {
     "duration": 0.026569,
     "end_time": "2021-03-21T09:14:55.732318",
     "exception": false,
     "start_time": "2021-03-21T09:14:55.705749",
     "status": "completed"
    },
    "tags": [],
    "pycharm": {
     "name": "#%% md\n"
    }
   },
   "source": [
    "# Text Preprocessing"
   ]
  },
  {
   "cell_type": "code",
   "execution_count": 16,
   "metadata": {
    "execution": {
     "iopub.execute_input": "2021-03-21T09:14:55.789875Z",
     "iopub.status.busy": "2021-03-21T09:14:55.789204Z",
     "iopub.status.idle": "2021-03-21T09:19:52.977625Z",
     "shell.execute_reply": "2021-03-21T09:19:52.978193Z"
    },
    "papermill": {
     "duration": 297.219074,
     "end_time": "2021-03-21T09:19:52.978400",
     "exception": false,
     "start_time": "2021-03-21T09:14:55.759326",
     "status": "completed"
    },
    "tags": [],
    "pycharm": {
     "name": "#%%\n"
    }
   },
   "outputs": [],
   "source": [
    "from nltk.corpus import stopwords\n",
    "from nltk.stem.porter import PorterStemmer\n",
    "import re\n",
    "ps = PorterStemmer()\n",
    "corpus = []\n",
    "for i in range(0, len(messages)):\n",
    "    review = re.sub('[^a-zA-Z]', ' ', messages['Body'][i])\n",
    "    review = review.lower()\n",
    "    review = review.split()\n",
    "    \n",
    "    review = [ps.stem(word) for word in review if not word in stopwords.words('english')]\n",
    "    review = ' '.join(review)\n",
    "    corpus.append(review)"
   ]
  },
  {
   "cell_type": "code",
   "execution_count": 38,
   "metadata": {
    "pycharm": {
     "name": "#%%\n"
    }
   },
   "outputs": [
    {
     "data": {
      "text/plain": [
       "\"Vice President Mike Pence Leaves NFL Game Because of Anti-American Protests\\n% of readers think this story is Fact. Add your two cents.\\n(Before It's News)\\nBy Donn Marten -\\nVice President Mike Pence was to have attended today’s National Football League game between the Indianapolis Colts and San Francisco 49ers but chose to leave after several players chose to use his presence to make an anti-American political statement.\\nCDN – http://www.conservativedailynews.com\\nThe Colts were to have honored longtime player and future Hall of Fame quarterback Peyton Manning during a ceremony but while the home team respected the flag by standing, the actions of the opposing San Francisco 49ers were seen as sufficiently disrespectful to the Veep that he departed the venue before kickoff.\\nAs reported by Indianapolis Fox affiliate Fox 59 “VP Mike Pence leaves Colts game because 49ers players knelt during anthem”:\\nVice President Mike Pence decided to leave the Indianapolis Colts game Sunday because some 49ers players knelt during the national anthem. In a tweet, the former Indiana governor said “I left today’s Colts game because @POTUS and I will not dignify any event that disrespects our soldiers, our Flag, or our National Anthem.” Minutes after that tweet, his office released a full statement. “I left today’s Colts game because President Trump and I will not dignify any event that disrespects our soldiers, our Flag, or our National Anthem. At a time when so many Americans are inspiring our nation with their courage, resolve, and resilience, now, more than ever, we should rally around our Flag and everything that unites us. While everyone is entitled to their own opinions, I don’t think it’s too much to ask NFL players to respect the Flag and our National Anthem. I stand with President Trump, I stand with our soldiers, and I will always stand for our Flag and our National Anthem.” It was announced Friday that Pence would attend the game with the second lady. The game is special, because Peyton Manning’s jersey will be retired at halftime and he will be inducted into the Ring of Honor. Before the game, he tweeted that he was looking forward to honor “the great career of #18 Peyton Manning.” Pence’s actions will no doubt be seized on by those who have polluted the NFL with their racial grievances and hatred of President Trump as “proof” that he stands for white supremacy and Nazism but he was dead right to leave and many of the other fans in attendance should have done so as well instead of being subjected to the politics of radical leftist racial grievance mongers that have driven the league’s popularity to historic lows.\\nThe Vice President expressed the following via Twitter:\\n52m Vice President Pence ✔@VP Replying to @VP While everyone is entitled to their own opinions, I don’t think it’s too much to ask NFL players to respect the Flag and our National Anthem\\nVice President Pence ✔@VP I left today’s Colts game because @POTUS and I will not dignify any event that disrespects our soldiers, our Flag, or our National Anthem. 11:08 AM – Oct 8, 2017\\nPence was formerly the Governor of Indiana.\\nIt’s just what the NFL needed too, even more negative publicity before the early games even kicked off.\\nREAD MORE\\nVice President Mike Pence Leaves NFL Game Because of Anti-American Protests is original content from Conservative Daily News – Conservative Daily News – Where Americans go for news, current events and commentary they can trust.\\nCDN – http://www.conservativedailynews.com\\nSource: https://www.conservativedailynews.com/2017/10/vice-president-mike-pence-leaves-nfl-game-anti-american-protests/\""
      ]
     },
     "execution_count": 38,
     "metadata": {},
     "output_type": "execute_result"
    }
   ],
   "source": [
    "messages['Body'][i]"
   ]
  },
  {
   "cell_type": "code",
   "execution_count": 17,
   "metadata": {
    "execution": {
     "iopub.execute_input": "2021-03-21T09:19:53.037977Z",
     "iopub.status.busy": "2021-03-21T09:19:53.037305Z",
     "iopub.status.idle": "2021-03-21T09:19:53.047955Z",
     "shell.execute_reply": "2021-03-21T09:19:53.047420Z"
    },
    "papermill": {
     "duration": 0.04124,
     "end_time": "2021-03-21T09:19:53.048112",
     "exception": false,
     "start_time": "2021-03-21T09:19:53.006872",
     "status": "completed"
    },
    "tags": [],
    "pycharm": {
     "name": "#%%\n"
    }
   },
   "outputs": [
    {
     "data": {
      "text/plain": [
       "'mexico citi reuter egypt cheiron hold limit right partner mexican nation oil compani pemex onshor cardena mora project industri regul said wednesday tie mark second joint ventur pemex equiti partner sinc energi open final end compani decad long monopoli allow develop project privat foreign oil compani cardena mora squar mile sq km field locat tabasco state believ contain million barrel oil equival boe proven probabl possibl reserv'"
      ]
     },
     "execution_count": 17,
     "metadata": {},
     "output_type": "execute_result"
    }
   ],
   "source": [
    "corpus[3]"
   ]
  },
  {
   "cell_type": "code",
   "execution_count": 18,
   "metadata": {
    "execution": {
     "iopub.execute_input": "2021-03-21T09:19:53.106829Z",
     "iopub.status.busy": "2021-03-21T09:19:53.105963Z",
     "iopub.status.idle": "2021-03-21T09:20:04.369171Z",
     "shell.execute_reply": "2021-03-21T09:20:04.368543Z"
    },
    "papermill": {
     "duration": 11.29362,
     "end_time": "2021-03-21T09:20:04.369336",
     "exception": false,
     "start_time": "2021-03-21T09:19:53.075716",
     "status": "completed"
    },
    "tags": [],
    "pycharm": {
     "name": "#%%\n"
    }
   },
   "outputs": [],
   "source": [
    "## Applying TFidf Vectorizer\n",
    "from sklearn.feature_extraction.text import TfidfVectorizer\n",
    "tfidf_v=TfidfVectorizer(max_features=5000,ngram_range=(1,3))\n",
    "X=tfidf_v.fit_transform(corpus).toarray()"
   ]
  },
  {
   "cell_type": "code",
   "execution_count": 40,
   "metadata": {
    "execution": {
     "iopub.execute_input": "2021-03-21T09:20:04.431131Z",
     "iopub.status.busy": "2021-03-21T09:20:04.430296Z",
     "iopub.status.idle": "2021-03-21T09:20:04.435360Z",
     "shell.execute_reply": "2021-03-21T09:20:04.434683Z"
    },
    "papermill": {
     "duration": 0.038305,
     "end_time": "2021-03-21T09:20:04.435514",
     "exception": false,
     "start_time": "2021-03-21T09:20:04.397209",
     "status": "completed"
    },
    "tags": [],
    "pycharm": {
     "name": "#%%\n"
    }
   },
   "outputs": [],
   "source": [
    "pkl_filename = \"tfidf_v.pkl\"\n",
    "with open(pkl_filename, 'wb') as file:\n",
    "    pickle.dump(tfidf_v, file)"
   ]
  },
  {
   "cell_type": "code",
   "execution_count": 20,
   "metadata": {
    "execution": {
     "iopub.execute_input": "2021-03-21T09:20:04.497241Z",
     "iopub.status.busy": "2021-03-21T09:20:04.496531Z",
     "iopub.status.idle": "2021-03-21T09:20:04.500690Z",
     "shell.execute_reply": "2021-03-21T09:20:04.501226Z"
    },
    "papermill": {
     "duration": 0.036936,
     "end_time": "2021-03-21T09:20:04.501425",
     "exception": false,
     "start_time": "2021-03-21T09:20:04.464489",
     "status": "completed"
    },
    "tags": [],
    "pycharm": {
     "name": "#%%\n"
    }
   },
   "outputs": [],
   "source": [
    "y=messages['Label']"
   ]
  },
  {
   "cell_type": "code",
   "execution_count": 21,
   "metadata": {
    "execution": {
     "iopub.execute_input": "2021-03-21T09:20:04.565020Z",
     "iopub.status.busy": "2021-03-21T09:20:04.561932Z",
     "iopub.status.idle": "2021-03-21T09:20:04.631170Z",
     "shell.execute_reply": "2021-03-21T09:20:04.630461Z"
    },
    "papermill": {
     "duration": 0.100867,
     "end_time": "2021-03-21T09:20:04.631327",
     "exception": false,
     "start_time": "2021-03-21T09:20:04.530460",
     "status": "completed"
    },
    "tags": [],
    "pycharm": {
     "name": "#%%\n"
    }
   },
   "outputs": [],
   "source": [
    "## Divide the dataset into Train and Test\n",
    "from sklearn.model_selection import train_test_split\n",
    "X_train, X_test, y_train, y_test = train_test_split(X, y, test_size=0.33, random_state=0)"
   ]
  },
  {
   "cell_type": "code",
   "execution_count": 22,
   "metadata": {
    "execution": {
     "iopub.execute_input": "2021-03-21T09:20:04.704618Z",
     "iopub.status.busy": "2021-03-21T09:20:04.703875Z",
     "iopub.status.idle": "2021-03-21T09:20:04.709487Z",
     "shell.execute_reply": "2021-03-21T09:20:04.708928Z"
    },
    "papermill": {
     "duration": 0.048447,
     "end_time": "2021-03-21T09:20:04.709660",
     "exception": false,
     "start_time": "2021-03-21T09:20:04.661213",
     "status": "completed"
    },
    "tags": [],
    "pycharm": {
     "name": "#%%\n"
    }
   },
   "outputs": [
    {
     "name": "stderr",
     "output_type": "stream",
     "text": [
      "/home/fefy/anaconda3/envs/env_base/lib/python3.9/site-packages/sklearn/utils/deprecation.py:87: FutureWarning: Function get_feature_names is deprecated; get_feature_names is deprecated in 1.0 and will be removed in 1.2. Please use get_feature_names_out instead.\n",
      "  warnings.warn(msg, category=FutureWarning)\n"
     ]
    },
    {
     "data": {
      "text/plain": [
       "['aaron',\n",
       " 'aaron judg',\n",
       " 'aaron kesel',\n",
       " 'aaron rodger',\n",
       " 'ab',\n",
       " 'abandon',\n",
       " 'abc',\n",
       " 'abe',\n",
       " 'aberti',\n",
       " 'abil',\n",
       " 'abl',\n",
       " 'abort',\n",
       " 'abroad',\n",
       " 'absenc',\n",
       " 'absolut',\n",
       " 'abus',\n",
       " 'ac',\n",
       " 'academ',\n",
       " 'academi',\n",
       " 'acc']"
      ]
     },
     "execution_count": 22,
     "metadata": {},
     "output_type": "execute_result"
    }
   ],
   "source": [
    "tfidf_v.get_feature_names()[:20]"
   ]
  },
  {
   "cell_type": "code",
   "execution_count": 23,
   "metadata": {
    "execution": {
     "iopub.execute_input": "2021-03-21T09:20:04.774661Z",
     "iopub.status.busy": "2021-03-21T09:20:04.773627Z",
     "iopub.status.idle": "2021-03-21T09:20:04.778575Z",
     "shell.execute_reply": "2021-03-21T09:20:04.777940Z"
    },
    "papermill": {
     "duration": 0.039951,
     "end_time": "2021-03-21T09:20:04.778720",
     "exception": false,
     "start_time": "2021-03-21T09:20:04.738769",
     "status": "completed"
    },
    "tags": [],
    "pycharm": {
     "name": "#%%\n"
    }
   },
   "outputs": [
    {
     "data": {
      "text/plain": [
       "{'analyzer': 'word',\n",
       " 'binary': False,\n",
       " 'decode_error': 'strict',\n",
       " 'dtype': numpy.float64,\n",
       " 'encoding': 'utf-8',\n",
       " 'input': 'content',\n",
       " 'lowercase': True,\n",
       " 'max_df': 1.0,\n",
       " 'max_features': 5000,\n",
       " 'min_df': 1,\n",
       " 'ngram_range': (1, 3),\n",
       " 'norm': 'l2',\n",
       " 'preprocessor': None,\n",
       " 'smooth_idf': True,\n",
       " 'stop_words': None,\n",
       " 'strip_accents': None,\n",
       " 'sublinear_tf': False,\n",
       " 'token_pattern': '(?u)\\\\b\\\\w\\\\w+\\\\b',\n",
       " 'tokenizer': None,\n",
       " 'use_idf': True,\n",
       " 'vocabulary': None}"
      ]
     },
     "execution_count": 23,
     "metadata": {},
     "output_type": "execute_result"
    }
   ],
   "source": [
    "tfidf_v.get_params()# things what you have applied in tfidf"
   ]
  },
  {
   "cell_type": "code",
   "execution_count": 24,
   "metadata": {
    "execution": {
     "iopub.execute_input": "2021-03-21T09:20:04.855483Z",
     "iopub.status.busy": "2021-03-21T09:20:04.854519Z",
     "iopub.status.idle": "2021-03-21T09:20:04.858491Z",
     "shell.execute_reply": "2021-03-21T09:20:04.857888Z"
    },
    "papermill": {
     "duration": 0.049826,
     "end_time": "2021-03-21T09:20:04.858667",
     "exception": false,
     "start_time": "2021-03-21T09:20:04.808841",
     "status": "completed"
    },
    "tags": [],
    "pycharm": {
     "name": "#%%\n"
    }
   },
   "outputs": [],
   "source": [
    "count_df = pd.DataFrame(X_train, columns=tfidf_v.get_feature_names())"
   ]
  },
  {
   "cell_type": "code",
   "execution_count": 25,
   "metadata": {
    "execution": {
     "iopub.execute_input": "2021-03-21T09:20:04.953562Z",
     "iopub.status.busy": "2021-03-21T09:20:04.945783Z",
     "iopub.status.idle": "2021-03-21T09:20:04.959766Z",
     "shell.execute_reply": "2021-03-21T09:20:04.959148Z"
    },
    "papermill": {
     "duration": 0.071192,
     "end_time": "2021-03-21T09:20:04.959922",
     "exception": false,
     "start_time": "2021-03-21T09:20:04.888730",
     "status": "completed"
    },
    "tags": [],
    "pycharm": {
     "name": "#%%\n"
    }
   },
   "outputs": [
    {
     "data": {
      "text/html": [
       "<div>\n",
       "<style scoped>\n",
       "    .dataframe tbody tr th:only-of-type {\n",
       "        vertical-align: middle;\n",
       "    }\n",
       "\n",
       "    .dataframe tbody tr th {\n",
       "        vertical-align: top;\n",
       "    }\n",
       "\n",
       "    .dataframe thead th {\n",
       "        text-align: right;\n",
       "    }\n",
       "</style>\n",
       "<table border=\"1\" class=\"dataframe\">\n",
       "  <thead>\n",
       "    <tr style=\"text-align: right;\">\n",
       "      <th></th>\n",
       "      <th>aaron</th>\n",
       "      <th>aaron judg</th>\n",
       "      <th>aaron kesel</th>\n",
       "      <th>aaron rodger</th>\n",
       "      <th>ab</th>\n",
       "      <th>abandon</th>\n",
       "      <th>abc</th>\n",
       "      <th>abe</th>\n",
       "      <th>aberti</th>\n",
       "      <th>abil</th>\n",
       "      <th>...</th>\n",
       "      <th>yorker</th>\n",
       "      <th>young</th>\n",
       "      <th>younger</th>\n",
       "      <th>youth</th>\n",
       "      <th>youtub</th>\n",
       "      <th>zach</th>\n",
       "      <th>zapatista</th>\n",
       "      <th>zealand</th>\n",
       "      <th>zero</th>\n",
       "      <th>zone</th>\n",
       "    </tr>\n",
       "  </thead>\n",
       "  <tbody>\n",
       "    <tr>\n",
       "      <th>0</th>\n",
       "      <td>0.073735</td>\n",
       "      <td>0.0</td>\n",
       "      <td>0.0</td>\n",
       "      <td>0.0</td>\n",
       "      <td>0.0</td>\n",
       "      <td>0.0</td>\n",
       "      <td>0.0</td>\n",
       "      <td>0.0</td>\n",
       "      <td>0.0</td>\n",
       "      <td>0.0</td>\n",
       "      <td>...</td>\n",
       "      <td>0.0</td>\n",
       "      <td>0.0</td>\n",
       "      <td>0.0</td>\n",
       "      <td>0.0</td>\n",
       "      <td>0.0</td>\n",
       "      <td>0.0</td>\n",
       "      <td>0.0</td>\n",
       "      <td>0.0</td>\n",
       "      <td>0.0</td>\n",
       "      <td>0.0</td>\n",
       "    </tr>\n",
       "    <tr>\n",
       "      <th>1</th>\n",
       "      <td>0.000000</td>\n",
       "      <td>0.0</td>\n",
       "      <td>0.0</td>\n",
       "      <td>0.0</td>\n",
       "      <td>0.0</td>\n",
       "      <td>0.0</td>\n",
       "      <td>0.0</td>\n",
       "      <td>0.0</td>\n",
       "      <td>0.0</td>\n",
       "      <td>0.0</td>\n",
       "      <td>...</td>\n",
       "      <td>0.0</td>\n",
       "      <td>0.0</td>\n",
       "      <td>0.0</td>\n",
       "      <td>0.0</td>\n",
       "      <td>0.0</td>\n",
       "      <td>0.0</td>\n",
       "      <td>0.0</td>\n",
       "      <td>0.0</td>\n",
       "      <td>0.0</td>\n",
       "      <td>0.0</td>\n",
       "    </tr>\n",
       "    <tr>\n",
       "      <th>2</th>\n",
       "      <td>0.000000</td>\n",
       "      <td>0.0</td>\n",
       "      <td>0.0</td>\n",
       "      <td>0.0</td>\n",
       "      <td>0.0</td>\n",
       "      <td>0.0</td>\n",
       "      <td>0.0</td>\n",
       "      <td>0.0</td>\n",
       "      <td>0.0</td>\n",
       "      <td>0.0</td>\n",
       "      <td>...</td>\n",
       "      <td>0.0</td>\n",
       "      <td>0.0</td>\n",
       "      <td>0.0</td>\n",
       "      <td>0.0</td>\n",
       "      <td>0.0</td>\n",
       "      <td>0.0</td>\n",
       "      <td>0.0</td>\n",
       "      <td>0.0</td>\n",
       "      <td>0.0</td>\n",
       "      <td>0.0</td>\n",
       "    </tr>\n",
       "    <tr>\n",
       "      <th>3</th>\n",
       "      <td>0.000000</td>\n",
       "      <td>0.0</td>\n",
       "      <td>0.0</td>\n",
       "      <td>0.0</td>\n",
       "      <td>0.0</td>\n",
       "      <td>0.0</td>\n",
       "      <td>0.0</td>\n",
       "      <td>0.0</td>\n",
       "      <td>0.0</td>\n",
       "      <td>0.0</td>\n",
       "      <td>...</td>\n",
       "      <td>0.0</td>\n",
       "      <td>0.0</td>\n",
       "      <td>0.0</td>\n",
       "      <td>0.0</td>\n",
       "      <td>0.0</td>\n",
       "      <td>0.0</td>\n",
       "      <td>0.0</td>\n",
       "      <td>0.0</td>\n",
       "      <td>0.0</td>\n",
       "      <td>0.0</td>\n",
       "    </tr>\n",
       "    <tr>\n",
       "      <th>4</th>\n",
       "      <td>0.000000</td>\n",
       "      <td>0.0</td>\n",
       "      <td>0.0</td>\n",
       "      <td>0.0</td>\n",
       "      <td>0.0</td>\n",
       "      <td>0.0</td>\n",
       "      <td>0.0</td>\n",
       "      <td>0.0</td>\n",
       "      <td>0.0</td>\n",
       "      <td>0.0</td>\n",
       "      <td>...</td>\n",
       "      <td>0.0</td>\n",
       "      <td>0.0</td>\n",
       "      <td>0.0</td>\n",
       "      <td>0.0</td>\n",
       "      <td>0.0</td>\n",
       "      <td>0.0</td>\n",
       "      <td>0.0</td>\n",
       "      <td>0.0</td>\n",
       "      <td>0.0</td>\n",
       "      <td>0.0</td>\n",
       "    </tr>\n",
       "  </tbody>\n",
       "</table>\n",
       "<p>5 rows × 5000 columns</p>\n",
       "</div>"
      ],
      "text/plain": [
       "      aaron  aaron judg  aaron kesel  aaron rodger   ab  abandon  abc  abe  \\\n",
       "0  0.073735         0.0          0.0           0.0  0.0      0.0  0.0  0.0   \n",
       "1  0.000000         0.0          0.0           0.0  0.0      0.0  0.0  0.0   \n",
       "2  0.000000         0.0          0.0           0.0  0.0      0.0  0.0  0.0   \n",
       "3  0.000000         0.0          0.0           0.0  0.0      0.0  0.0  0.0   \n",
       "4  0.000000         0.0          0.0           0.0  0.0      0.0  0.0  0.0   \n",
       "\n",
       "   aberti  abil  ...  yorker  young  younger  youth  youtub  zach  zapatista  \\\n",
       "0     0.0   0.0  ...     0.0    0.0      0.0    0.0     0.0   0.0        0.0   \n",
       "1     0.0   0.0  ...     0.0    0.0      0.0    0.0     0.0   0.0        0.0   \n",
       "2     0.0   0.0  ...     0.0    0.0      0.0    0.0     0.0   0.0        0.0   \n",
       "3     0.0   0.0  ...     0.0    0.0      0.0    0.0     0.0   0.0        0.0   \n",
       "4     0.0   0.0  ...     0.0    0.0      0.0    0.0     0.0   0.0        0.0   \n",
       "\n",
       "   zealand  zero  zone  \n",
       "0      0.0   0.0   0.0  \n",
       "1      0.0   0.0   0.0  \n",
       "2      0.0   0.0   0.0  \n",
       "3      0.0   0.0   0.0  \n",
       "4      0.0   0.0   0.0  \n",
       "\n",
       "[5 rows x 5000 columns]"
      ]
     },
     "execution_count": 25,
     "metadata": {},
     "output_type": "execute_result"
    }
   ],
   "source": [
    "count_df.head()"
   ]
  },
  {
   "cell_type": "code",
   "execution_count": 26,
   "metadata": {
    "execution": {
     "iopub.execute_input": "2021-03-21T09:20:05.027281Z",
     "iopub.status.busy": "2021-03-21T09:20:05.026504Z",
     "iopub.status.idle": "2021-03-21T09:20:05.030696Z",
     "shell.execute_reply": "2021-03-21T09:20:05.029793Z"
    },
    "papermill": {
     "duration": 0.040134,
     "end_time": "2021-03-21T09:20:05.030984",
     "exception": false,
     "start_time": "2021-03-21T09:20:04.990850",
     "status": "completed"
    },
    "tags": [],
    "pycharm": {
     "name": "#%%\n"
    }
   },
   "outputs": [],
   "source": [
    "import matplotlib.pyplot as plt"
   ]
  },
  {
   "cell_type": "code",
   "execution_count": 27,
   "metadata": {
    "execution": {
     "iopub.execute_input": "2021-03-21T09:20:05.104702Z",
     "iopub.status.busy": "2021-03-21T09:20:05.103913Z",
     "iopub.status.idle": "2021-03-21T09:20:05.107351Z",
     "shell.execute_reply": "2021-03-21T09:20:05.107860Z"
    },
    "papermill": {
     "duration": 0.045558,
     "end_time": "2021-03-21T09:20:05.108046",
     "exception": false,
     "start_time": "2021-03-21T09:20:05.062488",
     "status": "completed"
    },
    "tags": [],
    "pycharm": {
     "name": "#%%\n"
    }
   },
   "outputs": [],
   "source": [
    "# Applying confusion matrix\n",
    "def plot_confusion_matrix(cm, classes,\n",
    "                          normalize=False,\n",
    "                          title='Confusion matrix',\n",
    "                          cmap=plt.cm.Blues):\n",
    "    plt.imshow(cm, interpolation='nearest', cmap=cmap)\n",
    "    plt.title(title)\n",
    "    plt.colorbar()\n",
    "    tick_marks = np.arange(len(classes))\n",
    "    plt.xticks(tick_marks, classes, rotation=45)\n",
    "    plt.yticks(tick_marks, classes)\n",
    "\n",
    "    if normalize:\n",
    "        cm = cm.astype('float') / cm.sum(axis=1)[:, np.newaxis]\n",
    "        print(\"Normalized confusion matrix\")\n",
    "    else:\n",
    "        print('Confusion matrix, without normalization')\n",
    "\n",
    "    thresh = cm.max() / 2.\n",
    "    for i, j in itertools.product(range(cm.shape[0]), range(cm.shape[1])):\n",
    "        plt.text(j, i, cm[i, j],\n",
    "                 horizontalalignment=\"center\",\n",
    "                 color=\"white\" if cm[i, j] > thresh else \"black\")\n",
    "\n",
    "    plt.tight_layout()\n",
    "    plt.ylabel('True label')\n",
    "    plt.xlabel('Predicted label')"
   ]
  },
  {
   "cell_type": "markdown",
   "metadata": {
    "papermill": {
     "duration": 0.029973,
     "end_time": "2021-03-21T09:20:05.169257",
     "exception": false,
     "start_time": "2021-03-21T09:20:05.139284",
     "status": "completed"
    },
    "tags": [],
    "pycharm": {
     "name": "#%% md\n"
    }
   },
   "source": [
    "# Model selection and model building."
   ]
  },
  {
   "cell_type": "code",
   "execution_count": 28,
   "metadata": {
    "execution": {
     "iopub.execute_input": "2021-03-21T09:20:05.235353Z",
     "iopub.status.busy": "2021-03-21T09:20:05.234628Z",
     "iopub.status.idle": "2021-03-21T09:20:05.243795Z",
     "shell.execute_reply": "2021-03-21T09:20:05.242149Z"
    },
    "papermill": {
     "duration": 0.044302,
     "end_time": "2021-03-21T09:20:05.243971",
     "exception": false,
     "start_time": "2021-03-21T09:20:05.199669",
     "status": "completed"
    },
    "tags": [],
    "pycharm": {
     "name": "#%%\n"
    }
   },
   "outputs": [],
   "source": [
    "from sklearn.naive_bayes import MultinomialNB\n",
    "classifier=MultinomialNB()"
   ]
  },
  {
   "cell_type": "code",
   "execution_count": 29,
   "metadata": {
    "execution": {
     "iopub.execute_input": "2021-03-21T09:20:05.310655Z",
     "iopub.status.busy": "2021-03-21T09:20:05.309973Z",
     "iopub.status.idle": "2021-03-21T09:20:05.313806Z",
     "shell.execute_reply": "2021-03-21T09:20:05.313236Z"
    },
    "papermill": {
     "duration": 0.03929,
     "end_time": "2021-03-21T09:20:05.313975",
     "exception": false,
     "start_time": "2021-03-21T09:20:05.274685",
     "status": "completed"
    },
    "tags": [],
    "pycharm": {
     "name": "#%%\n"
    }
   },
   "outputs": [],
   "source": [
    "from sklearn import metrics\n",
    "import numpy as np\n",
    "import itertools"
   ]
  },
  {
   "cell_type": "code",
   "execution_count": 30,
   "metadata": {
    "execution": {
     "iopub.execute_input": "2021-03-21T09:20:05.384072Z",
     "iopub.status.busy": "2021-03-21T09:20:05.382798Z",
     "iopub.status.idle": "2021-03-21T09:20:05.689444Z",
     "shell.execute_reply": "2021-03-21T09:20:05.688850Z"
    },
    "papermill": {
     "duration": 0.343937,
     "end_time": "2021-03-21T09:20:05.689598",
     "exception": false,
     "start_time": "2021-03-21T09:20:05.345661",
     "status": "completed"
    },
    "tags": [],
    "pycharm": {
     "name": "#%%\n"
    }
   },
   "outputs": [
    {
     "name": "stdout",
     "output_type": "stream",
     "text": [
      "accuracy:   0.893\n",
      "Confusion matrix, without normalization\n"
     ]
    },
    {
     "data": {
      "image/png": "[encoded data removed]",
      "text/plain": [
       "<Figure size 432x288 with 2 Axes>"
      ]
     },
     "metadata": {
      "needs_background": "light"
     },
     "output_type": "display_data"
    }
   ],
   "source": [
    "classifier.fit(X_train, y_train)\n",
    "pred = classifier.predict(X_test)\n",
    "score = metrics.accuracy_score(y_test, pred)\n",
    "print(\"accuracy:   %0.3f\" % score)\n",
    "cm = metrics.confusion_matrix(y_test, pred)\n",
    "plot_confusion_matrix(cm, classes=['FAKE', 'REAL'])"
   ]
  },
  {
   "cell_type": "code",
   "execution_count": 31,
   "metadata": {
    "execution": {
     "iopub.execute_input": "2021-03-21T09:20:05.760046Z",
     "iopub.status.busy": "2021-03-21T09:20:05.759406Z",
     "iopub.status.idle": "2021-03-21T09:20:05.836623Z",
     "shell.execute_reply": "2021-03-21T09:20:05.836016Z"
    },
    "papermill": {
     "duration": 0.114437,
     "end_time": "2021-03-21T09:20:05.836776",
     "exception": false,
     "start_time": "2021-03-21T09:20:05.722339",
     "status": "completed"
    },
    "tags": [],
    "pycharm": {
     "name": "#%%\n"
    }
   },
   "outputs": [
    {
     "data": {
      "text/plain": [
       "0.8929384965831435"
      ]
     },
     "execution_count": 31,
     "metadata": {},
     "output_type": "execute_result"
    }
   ],
   "source": [
    "classifier.fit(X_train, y_train)\n",
    "pred = classifier.predict(X_test)\n",
    "score = metrics.accuracy_score(y_test, pred)\n",
    "score"
   ]
  },
  {
   "cell_type": "code",
   "execution_count": 32,
   "metadata": {
    "execution": {
     "iopub.execute_input": "2021-03-21T09:20:05.908421Z",
     "iopub.status.busy": "2021-03-21T09:20:05.907711Z",
     "iopub.status.idle": "2021-03-21T09:20:05.913742Z",
     "shell.execute_reply": "2021-03-21T09:20:05.912997Z"
    },
    "papermill": {
     "duration": 0.044297,
     "end_time": "2021-03-21T09:20:05.913908",
     "exception": false,
     "start_time": "2021-03-21T09:20:05.869611",
     "status": "completed"
    },
    "tags": [],
    "pycharm": {
     "name": "#%%\n"
    }
   },
   "outputs": [
    {
     "data": {
      "text/plain": [
       "(2671,)"
      ]
     },
     "execution_count": 32,
     "metadata": {},
     "output_type": "execute_result"
    }
   ],
   "source": [
    "y_train.shape"
   ]
  },
  {
   "cell_type": "code",
   "execution_count": 33,
   "metadata": {
    "execution": {
     "iopub.execute_input": "2021-03-21T09:20:05.986657Z",
     "iopub.status.busy": "2021-03-21T09:20:05.985804Z",
     "iopub.status.idle": "2021-03-21T09:20:05.989051Z",
     "shell.execute_reply": "2021-03-21T09:20:05.988414Z"
    },
    "papermill": {
     "duration": 0.042196,
     "end_time": "2021-03-21T09:20:05.989224",
     "exception": false,
     "start_time": "2021-03-21T09:20:05.947028",
     "status": "completed"
    },
    "tags": [],
    "pycharm": {
     "name": "#%%\n"
    }
   },
   "outputs": [],
   "source": [
    "from sklearn.linear_model import PassiveAggressiveClassifier\n",
    "linear_clf = PassiveAggressiveClassifier(n_iter_no_change=50)"
   ]
  },
  {
   "cell_type": "code",
   "execution_count": 34,
   "metadata": {
    "execution": {
     "iopub.execute_input": "2021-03-21T09:20:06.063645Z",
     "iopub.status.busy": "2021-03-21T09:20:06.062899Z",
     "iopub.status.idle": "2021-03-21T09:20:08.745478Z",
     "shell.execute_reply": "2021-03-21T09:20:08.744891Z"
    },
    "papermill": {
     "duration": 2.722225,
     "end_time": "2021-03-21T09:20:08.745638",
     "exception": false,
     "start_time": "2021-03-21T09:20:06.023413",
     "status": "completed"
    },
    "tags": [],
    "pycharm": {
     "name": "#%%\n"
    }
   },
   "outputs": [
    {
     "name": "stdout",
     "output_type": "stream",
     "text": [
      "accuracy:   0.984\n",
      "Confusion matrix, without normalization\n"
     ]
    },
    {
     "data": {
      "image/png": "[encoded data removed]",
      "text/plain": [
       "<Figure size 432x288 with 2 Axes>"
      ]
     },
     "metadata": {
      "needs_background": "light"
     },
     "output_type": "display_data"
    }
   ],
   "source": [
    "linear_clf.fit(X_train, y_train)\n",
    "pred = linear_clf.predict(X_test)\n",
    "score = metrics.accuracy_score(y_test, pred)\n",
    "print(\"accuracy:   %0.3f\" % score)\n",
    "cm = metrics.confusion_matrix(y_test, pred)\n",
    "plot_confusion_matrix(cm, classes=['FAKE Data', 'REAL Data'])"
   ]
  },
  {
   "cell_type": "code",
   "execution_count": 36,
   "metadata": {
    "pycharm": {
     "name": "#%%\n"
    }
   },
   "outputs": [],
   "source": [
    "import pickle\n",
    "\n",
    "pkl_filename = \"pickle_model.pkl\"\n",
    "with open(pkl_filename, 'wb') as file:\n",
    "    pickle.dump(linear_clf, file)\n"
   ]
  }
 ],
 "metadata": {
  "kernelspec": {
   "display_name": "Python 3 (ipykernel)",
   "language": "python",
   "name": "python3"
  },
  "language_info": {
   "codemirror_mode": {
    "name": "ipython",
    "version": 3
   },
   "file_extension": ".py",
   "mimetype": "text/x-python",
   "name": "python",
   "nbconvert_exporter": "python",
   "pygments_lexer": "ipython3",
   "version": "3.9.10"
  },
  "papermill": {
   "default_parameters": {},
   "duration": 323.300138,
   "end_time": "2021-03-21T09:20:09.864115",
   "environment_variables": {},
   "exception": null,
   "input_path": "__notebook__.ipynb",
   "output_path": "__notebook__.ipynb",
   "parameters": {},
   "start_time": "2021-03-21T09:14:46.563977",
   "version": "2.2.2"
  }
 },
 "nbformat": 4,
 "nbformat_minor": 4
}